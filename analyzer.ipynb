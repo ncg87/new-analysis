{
 "cells": [
  {
   "cell_type": "code",
   "execution_count": 1,
   "metadata": {},
   "outputs": [
    {
     "name": "stderr",
     "output_type": "stream",
     "text": [
      "c:\\Users\\Nicko\\anaconda3\\envs\\futures\\Lib\\site-packages\\tqdm\\auto.py:21: TqdmWarning: IProgress not found. Please update jupyter and ipywidgets. See https://ipywidgets.readthedocs.io/en/stable/user_install.html\n",
      "  from .autonotebook import tqdm as notebook_tqdm\n"
     ]
    }
   ],
   "source": [
    "from classifier import EnsembleAnalyzer, AnalysisResult, aggregate_analyses\n",
    "from database import DatabaseManager\n",
    "from config import APIConfig"
   ]
  },
  {
   "cell_type": "code",
   "execution_count": 2,
   "metadata": {},
   "outputs": [],
   "source": [
    "# API Config and API Key\n",
    "config = APIConfig()\n",
    "MONGO_URI = config.MONGO_URI"
   ]
  },
  {
   "cell_type": "code",
   "execution_count": 3,
   "metadata": {},
   "outputs": [],
   "source": [
    "dm = DatabaseManager(mongo_uri=MONGO_URI, debug=True)"
   ]
  },
  {
   "cell_type": "code",
   "execution_count": 4,
   "metadata": {},
   "outputs": [
    {
     "name": "stdout",
     "output_type": "stream",
     "text": [
      "MongoDB connection successful\n",
      "Retrieved article: USDA Celebrates Long-Standing Partnerships with Rural Cooperatives as Part of 60th Anniversary of National Cooperative Month\n",
      "Retrieved article: Biden-Harris Administration Invests in Rural Projects to Strengthen American Infrastructure and Create Good-Paying Jobs in 30 States\n",
      "Retrieved article: Biden-Harris Administration Makes up to $7.7 Billion Available for Climate-Smart Practices on Agricultural Lands as Part of Investing in America Agenda\n",
      "Retrieved article: Biden-Harris Administration Invests in Rural Communities to Lower Energy Costs and Create Jobs in 34 States as Part of Investing in America Agenda\n",
      "Retrieved article: USDA Invests more than $11 Million to Support Resiliency in U.S. Dairy Industry\n",
      "Retrieved 5 articles from database\n",
      "MongoDB connection closed\n"
     ]
    }
   ],
   "source": [
    "articles = await dm.extract_articles(5)"
   ]
  },
  {
   "cell_type": "code",
   "execution_count": 9,
   "metadata": {},
   "outputs": [],
   "source": [
    "import asyncio\n",
    "\n",
    "analyzer = EnsembleAnalyzer(config.ANALYZERS, debug=True)\n",
    "\n",
    "analyses = []\n",
    "\n",
    "for article in articles:\n",
    "    try:\n",
    "        article_analysis = await analyzer.analyze(article['title'], article['article'])\n",
    "        analyses.append(aggregate_analyses(article_analysis))\n",
    "    except Exception as e:\n",
    "        print(f\"Error analyzing article {article['title']}: {e}\")\n",
    "        await asyncio.sleep(60)\n"
   ]
  },
  {
   "cell_type": "code",
   "execution_count": 10,
   "metadata": {},
   "outputs": [
    {
     "data": {
      "text/plain": [
       "[{'consensus_affects_cotton': False,\n",
       "  'weighted_price_impact': 0.0,\n",
       "  'weighted_cotton_focus': 0.0,\n",
       "  'confidence_level': 0.917,\n",
       "  'agreement_level': 1.0},\n",
       " {'consensus_affects_cotton': False,\n",
       "  'weighted_price_impact': 0.0,\n",
       "  'weighted_cotton_focus': 0.0,\n",
       "  'confidence_level': 0.917,\n",
       "  'agreement_level': 1.0},\n",
       " {'consensus_affects_cotton': True,\n",
       "  'weighted_price_impact': 0.069,\n",
       "  'weighted_cotton_focus': 0.253,\n",
       "  'confidence_level': 0.738,\n",
       "  'agreement_level': 1.0},\n",
       " {'consensus_affects_cotton': False,\n",
       "  'weighted_price_impact': 0.0,\n",
       "  'weighted_cotton_focus': 0.0,\n",
       "  'confidence_level': 0.917,\n",
       "  'agreement_level': 1.0},\n",
       " {'consensus_affects_cotton': False,\n",
       "  'weighted_price_impact': 0.0,\n",
       "  'weighted_cotton_focus': 0.0,\n",
       "  'confidence_level': 0.975,\n",
       "  'agreement_level': 1.0}]"
      ]
     },
     "execution_count": 10,
     "metadata": {},
     "output_type": "execute_result"
    }
   ],
   "source": [
    "analyses\n"
   ]
  },
  {
   "cell_type": "code",
   "execution_count": null,
   "metadata": {},
   "outputs": [],
   "source": []
  }
 ],
 "metadata": {
  "kernelspec": {
   "display_name": "futures",
   "language": "python",
   "name": "python3"
  },
  "language_info": {
   "codemirror_mode": {
    "name": "ipython",
    "version": 3
   },
   "file_extension": ".py",
   "mimetype": "text/x-python",
   "name": "python",
   "nbconvert_exporter": "python",
   "pygments_lexer": "ipython3",
   "version": "3.12.7"
  }
 },
 "nbformat": 4,
 "nbformat_minor": 2
}
